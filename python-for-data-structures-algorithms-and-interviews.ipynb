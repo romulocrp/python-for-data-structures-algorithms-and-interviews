{
 "cells": [
  {
   "cell_type": "markdown",
   "metadata": {},
   "source": [
    "# Python for Data Structures, Algorithms, and Interviews!"
   ]
  },
  {
   "cell_type": "markdown",
   "metadata": {},
   "source": [
    "Here is a notebook with my code answers to interview problems along the course"
   ]
  },
  {
   "cell_type": "markdown",
   "metadata": {},
   "source": [
    "## Array sequences"
   ]
  },
  {
   "cell_type": "markdown",
   "metadata": {
    "heading_collapsed": true
   },
   "source": [
    "### Anagram check"
   ]
  },
  {
   "cell_type": "markdown",
   "metadata": {
    "hidden": true
   },
   "source": [
    "**Solution**"
   ]
  },
  {
   "cell_type": "code",
   "execution_count": 1,
   "metadata": {
    "ExecuteTime": {
     "end_time": "2022-06-02T17:56:05.928638Z",
     "start_time": "2022-06-02T17:56:05.915772Z"
    },
    "hidden": true
   },
   "outputs": [],
   "source": [
    "def anagram_check(word1, word2):\n",
    "    word1 = word1.replace(\" \", \"\")\n",
    "    word2 = word2.replace(\" \", \"\")\n",
    "    if sorted(word1) == sorted(word2):\n",
    "        return True\n",
    "    return False"
   ]
  },
  {
   "cell_type": "markdown",
   "metadata": {
    "hidden": true
   },
   "source": [
    "**Tests**"
   ]
  },
  {
   "cell_type": "code",
   "execution_count": 2,
   "metadata": {
    "ExecuteTime": {
     "end_time": "2022-06-02T17:56:06.127548Z",
     "start_time": "2022-06-02T17:56:06.051028Z"
    },
    "hidden": true
   },
   "outputs": [
    {
     "name": "stdout",
     "output_type": "stream",
     "text": [
      "ALL TEST CASES PASSED\n"
     ]
    }
   ],
   "source": [
    "from nose.tools import assert_equal\n",
    "\n",
    "class AnagramTest(object):\n",
    "    \n",
    "    def test(self,sol):\n",
    "        assert_equal(sol('go go go','gggooo'),True)\n",
    "        assert_equal(sol('abc','cba'),True)\n",
    "        assert_equal(sol('hi man','hi     man'),True)\n",
    "        assert_equal(sol('aabbcc','aabbc'),False)\n",
    "        assert_equal(sol('123','1 2'),False)\n",
    "        print(\"ALL TEST CASES PASSED\")\n",
    "\n",
    "# Run Tests\n",
    "t = AnagramTest()\n",
    "t.test(anagram_check)"
   ]
  },
  {
   "cell_type": "markdown",
   "metadata": {
    "hidden": true
   },
   "source": [
    "*Preferred solution*"
   ]
  },
  {
   "cell_type": "code",
   "execution_count": 3,
   "metadata": {
    "ExecuteTime": {
     "end_time": "2022-06-02T17:56:06.187796Z",
     "start_time": "2022-06-02T17:56:06.174187Z"
    },
    "hidden": true
   },
   "outputs": [],
   "source": [
    "def anagram_check2(word1, word2):\n",
    "    word1 = word1.replace(\" \", \"\").lower()\n",
    "    word2 = word2.replace(\" \", \"\").lower()\n",
    "    \n",
    "    if len(word1) != len(word2):\n",
    "        return False\n",
    "    \n",
    "    count = {}\n",
    "    \n",
    "    for letter in word1:\n",
    "        if letter in count.keys():\n",
    "            count[letter] += 1\n",
    "        else:\n",
    "            count[letter] = 1\n",
    "            \n",
    "    for letter in word2:\n",
    "        if letter in count.keys():\n",
    "            count[letter] -= 1\n",
    "        else:\n",
    "            count[letter] = 1\n",
    "            \n",
    "    for k in count.keys():\n",
    "        if count[k] != 0:\n",
    "            return False\n",
    "        \n",
    "    return True"
   ]
  },
  {
   "cell_type": "code",
   "execution_count": 4,
   "metadata": {
    "ExecuteTime": {
     "end_time": "2022-06-02T17:56:06.208597Z",
     "start_time": "2022-06-02T17:56:06.192664Z"
    },
    "hidden": true
   },
   "outputs": [
    {
     "name": "stdout",
     "output_type": "stream",
     "text": [
      "ALL TEST CASES PASSED\n"
     ]
    }
   ],
   "source": [
    "t.test(anagram_check2)"
   ]
  },
  {
   "cell_type": "markdown",
   "metadata": {
    "heading_collapsed": true
   },
   "source": [
    "### Array Pair Sum"
   ]
  },
  {
   "cell_type": "markdown",
   "metadata": {
    "hidden": true
   },
   "source": [
    "**Solution**"
   ]
  },
  {
   "cell_type": "code",
   "execution_count": 5,
   "metadata": {
    "ExecuteTime": {
     "end_time": "2022-06-02T17:56:06.348203Z",
     "start_time": "2022-06-02T17:56:06.340634Z"
    },
    "hidden": true
   },
   "outputs": [],
   "source": [
    "def pair_sum(array, k):\n",
    "    pair_lst = []\n",
    "    for i in range(len(array)):\n",
    "        for j in range(len(array)):\n",
    "            if array[i] + array[j] == k:\n",
    "                pair = array[i], array[j]\n",
    "                pair = tuple(sorted(pair))\n",
    "                pair_lst.append(pair)\n",
    "    pair_set = set(pair_lst)\n",
    "    return len(pair_set)"
   ]
  },
  {
   "cell_type": "markdown",
   "metadata": {
    "hidden": true
   },
   "source": [
    "**Tests**"
   ]
  },
  {
   "cell_type": "code",
   "execution_count": 6,
   "metadata": {
    "ExecuteTime": {
     "end_time": "2022-06-02T17:56:06.426059Z",
     "start_time": "2022-06-02T17:56:06.418864Z"
    },
    "hidden": true
   },
   "outputs": [
    {
     "name": "stdout",
     "output_type": "stream",
     "text": [
      "ALL TEST CASES PASSED\n"
     ]
    }
   ],
   "source": [
    "class TestPair(object):\n",
    "    \n",
    "    def test(self,sol):\n",
    "        assert_equal(sol([1,9,2,8,3,7,4,6,5,5,13,14,11,13,-1],10),6)\n",
    "        assert_equal(sol([1,2,3,1],3),1)\n",
    "        assert_equal(sol([1,3,2,2],4),2)\n",
    "        print('ALL TEST CASES PASSED')\n",
    "        \n",
    "#Run tests\n",
    "t = TestPair()\n",
    "t.test(pair_sum)"
   ]
  },
  {
   "cell_type": "markdown",
   "metadata": {
    "hidden": true
   },
   "source": [
    "*Preferred Solution*: This solution is preferred due to it's strategy, creating a set of numbers already tested inside the function to change the performance from O(n^2) to O(n)."
   ]
  },
  {
   "cell_type": "code",
   "execution_count": 7,
   "metadata": {
    "ExecuteTime": {
     "end_time": "2022-06-02T17:56:06.494424Z",
     "start_time": "2022-06-02T17:56:06.489351Z"
    },
    "hidden": true
   },
   "outputs": [],
   "source": [
    "def pair_sum2 (array, k):\n",
    "    if len(array) < 2:\n",
    "        return\n",
    "    \n",
    "    visto = set()\n",
    "    saida = set()\n",
    "    \n",
    "    for num in array:\n",
    "        \n",
    "        alvo = k - num\n",
    "        \n",
    "        if alvo not in visto:\n",
    "            visto.add(num)\n",
    "        else:\n",
    "            saida.add( (min(num, alvo), max(num, alvo)))\n",
    "            \n",
    "    return len(saida)"
   ]
  },
  {
   "cell_type": "code",
   "execution_count": 8,
   "metadata": {
    "ExecuteTime": {
     "end_time": "2022-06-02T17:56:06.511386Z",
     "start_time": "2022-06-02T17:56:06.497303Z"
    },
    "hidden": true
   },
   "outputs": [
    {
     "name": "stdout",
     "output_type": "stream",
     "text": [
      "ALL TEST CASES PASSED\n"
     ]
    }
   ],
   "source": [
    "t.test(pair_sum2)"
   ]
  },
  {
   "cell_type": "markdown",
   "metadata": {
    "heading_collapsed": true
   },
   "source": [
    "### Find the missing element"
   ]
  },
  {
   "cell_type": "markdown",
   "metadata": {
    "hidden": true
   },
   "source": [
    "**Solution**"
   ]
  },
  {
   "cell_type": "code",
   "execution_count": 9,
   "metadata": {
    "ExecuteTime": {
     "end_time": "2022-06-02T17:56:06.641150Z",
     "start_time": "2022-06-02T17:56:06.633995Z"
    },
    "hidden": true
   },
   "outputs": [],
   "source": [
    "def finder(arr1, arr2):\n",
    "    arr1 = sorted(arr1)\n",
    "    arr2 = sorted(arr2)\n",
    "    for i in range(len(arr1)):\n",
    "        if arr1[i] != arr2[i]:\n",
    "            return arr1[i]"
   ]
  },
  {
   "cell_type": "markdown",
   "metadata": {
    "hidden": true
   },
   "source": [
    "**Tests**"
   ]
  },
  {
   "cell_type": "code",
   "execution_count": 10,
   "metadata": {
    "ExecuteTime": {
     "end_time": "2022-06-02T17:56:06.712797Z",
     "start_time": "2022-06-02T17:56:06.705924Z"
    },
    "hidden": true
   },
   "outputs": [
    {
     "name": "stdout",
     "output_type": "stream",
     "text": [
      "ALL TEST CASES PASSED\n"
     ]
    }
   ],
   "source": [
    "class TestFinder(object):\n",
    "    \n",
    "    def test(self,sol):\n",
    "        assert_equal(sol([5,5,7,7],[5,7,7]),5)\n",
    "        assert_equal(sol([1,2,3,4,5,6,7],[3,7,2,1,4,6]),5)\n",
    "        assert_equal(sol([9,8,7,6,5,4,3,2,1],[9,8,7,5,4,3,2,1]),6)\n",
    "        print('ALL TEST CASES PASSED')\n",
    "\n",
    "# Run test\n",
    "t = TestFinder()\n",
    "t.test(finder)"
   ]
  },
  {
   "cell_type": "markdown",
   "metadata": {
    "hidden": true
   },
   "source": [
    "*Preferred Solution*"
   ]
  },
  {
   "cell_type": "code",
   "execution_count": 11,
   "metadata": {
    "ExecuteTime": {
     "end_time": "2022-06-02T17:56:06.789143Z",
     "start_time": "2022-06-02T17:56:06.782950Z"
    },
    "hidden": true
   },
   "outputs": [],
   "source": [
    "import collections\n",
    "\n",
    "def finder2(arr1, arr2):\n",
    "    \n",
    "    d = collections.defaultdict(int)\n",
    "    \n",
    "    for num in arr2:\n",
    "        d[num] += 1\n",
    "        \n",
    "    for num in arr1:\n",
    "        if d[num] == 0:\n",
    "            return num\n",
    "        else:\n",
    "            d[num] -= 1"
   ]
  },
  {
   "cell_type": "code",
   "execution_count": 12,
   "metadata": {
    "ExecuteTime": {
     "end_time": "2022-06-02T17:56:06.806625Z",
     "start_time": "2022-06-02T17:56:06.796437Z"
    },
    "hidden": true
   },
   "outputs": [
    {
     "name": "stdout",
     "output_type": "stream",
     "text": [
      "ALL TEST CASES PASSED\n"
     ]
    }
   ],
   "source": [
    "t.test(finder2)"
   ]
  },
  {
   "cell_type": "markdown",
   "metadata": {
    "heading_collapsed": true
   },
   "source": [
    "### Largest Continuous Sum"
   ]
  },
  {
   "cell_type": "markdown",
   "metadata": {
    "hidden": true
   },
   "source": [
    "**Solution**"
   ]
  },
  {
   "cell_type": "code",
   "execution_count": 13,
   "metadata": {
    "ExecuteTime": {
     "end_time": "2022-06-02T17:56:06.957169Z",
     "start_time": "2022-06-02T17:56:06.949608Z"
    },
    "hidden": true
   },
   "outputs": [],
   "source": [
    "def large_cont_sum(arr):\n",
    "    \"\"\"Seems like some sort of kadane's algorithm too\"\"\"\n",
    "    max_sum = 0\n",
    "    cur_sum = 0\n",
    "    \n",
    "    for i in range(len(arr)):\n",
    "        cur_sum += arr[i]\n",
    "        if cur_sum > max_sum:\n",
    "            max_sum = cur_sum\n",
    "        elif cur_sum < 0:\n",
    "            cur_sum = 0\n",
    "    \n",
    "    return max_sum"
   ]
  },
  {
   "cell_type": "markdown",
   "metadata": {
    "hidden": true
   },
   "source": [
    "**Tests**"
   ]
  },
  {
   "cell_type": "code",
   "execution_count": 14,
   "metadata": {
    "ExecuteTime": {
     "end_time": "2022-06-02T17:56:07.470724Z",
     "start_time": "2022-06-02T17:56:07.022604Z"
    },
    "hidden": true
   },
   "outputs": [
    {
     "name": "stdout",
     "output_type": "stream",
     "text": [
      "ALL TEST CASES PASSED\n"
     ]
    }
   ],
   "source": [
    "class LargeContTest(object):\n",
    "    def test(self,sol):\n",
    "        assert_equal(sol([1,2,-1,3,4,-1]),9)\n",
    "        assert_equal(sol([1,2,-1,3,4,10,10,-10,-1]),29)\n",
    "        assert_equal(sol([-1,1]),1)\n",
    "        print('ALL TEST CASES PASSED')\n",
    "        \n",
    "#Run Test\n",
    "t = LargeContTest()\n",
    "t.test(large_cont_sum)"
   ]
  },
  {
   "cell_type": "markdown",
   "metadata": {
    "hidden": true
   },
   "source": [
    "*Preferred Solution*"
   ]
  },
  {
   "cell_type": "code",
   "execution_count": 15,
   "metadata": {
    "ExecuteTime": {
     "end_time": "2022-06-02T17:56:07.479809Z",
     "start_time": "2022-06-02T17:56:07.474299Z"
    },
    "hidden": true
   },
   "outputs": [],
   "source": [
    "def large_cont_sum2(arr):\n",
    "    \"\"\"Kadane's Algorithm\"\"\"\n",
    "    if len(arr) == 0:\n",
    "        return 0\n",
    "    \n",
    "    max_sum = cur_sum = arr[0]\n",
    "    \n",
    "    for num in arr[1:]:\n",
    "        \n",
    "        cur_sum = max(cur_sum + num, num)\n",
    "        \n",
    "        max_sum = max(cur_sum, max_sum)\n",
    "        \n",
    "    return max_sum"
   ]
  },
  {
   "cell_type": "code",
   "execution_count": 16,
   "metadata": {
    "ExecuteTime": {
     "end_time": "2022-06-02T17:56:07.488989Z",
     "start_time": "2022-06-02T17:56:07.483365Z"
    },
    "hidden": true
   },
   "outputs": [
    {
     "name": "stdout",
     "output_type": "stream",
     "text": [
      "ALL TEST CASES PASSED\n"
     ]
    }
   ],
   "source": [
    "t.test(large_cont_sum2)"
   ]
  },
  {
   "cell_type": "markdown",
   "metadata": {
    "hidden": true
   },
   "source": [
    "**Next Step**: Try to output the indexes from where the list starts to where it ends"
   ]
  },
  {
   "cell_type": "code",
   "execution_count": 17,
   "metadata": {
    "ExecuteTime": {
     "end_time": "2022-06-02T17:56:07.499782Z",
     "start_time": "2022-06-02T17:56:07.493848Z"
    },
    "hidden": true
   },
   "outputs": [],
   "source": [
    "a = [-1, 2, 3, -2, 4]\n",
    "b = [-1, 2, 6, -2, 4]"
   ]
  },
  {
   "cell_type": "code",
   "execution_count": 18,
   "metadata": {
    "ExecuteTime": {
     "end_time": "2022-06-02T17:56:07.510836Z",
     "start_time": "2022-06-02T17:56:07.503500Z"
    },
    "hidden": true
   },
   "outputs": [],
   "source": [
    "def large_cont_sum3(arr):\n",
    "    \"\"\"Kadane's Algorithm, with index recovering\"\"\"\n",
    "    if len(arr) == 0:\n",
    "        return 0\n",
    "    \n",
    "    max_sum = cur_sum = arr[0]\n",
    "    si = li = 0\n",
    "    \n",
    "    for num in arr[1:]:\n",
    "        \n",
    "        cur_sum = max(cur_sum + num, num)\n",
    "        \n",
    "        max_sum = max(cur_sum, max_sum)\n",
    "        \n",
    "        if max_sum == num:\n",
    "            si = arr.index(num)\n",
    "            \n",
    "        if max_sum == cur_sum:\n",
    "            li = arr.index(num)\n",
    "        \n",
    "    return max_sum, si, li"
   ]
  },
  {
   "cell_type": "code",
   "execution_count": 19,
   "metadata": {
    "ExecuteTime": {
     "end_time": "2022-06-02T17:56:07.538011Z",
     "start_time": "2022-06-02T17:56:07.514320Z"
    },
    "hidden": true
   },
   "outputs": [
    {
     "data": {
      "text/plain": [
       "(7, 1, 4)"
      ]
     },
     "execution_count": 19,
     "metadata": {},
     "output_type": "execute_result"
    }
   ],
   "source": [
    "large_cont_sum3(a)"
   ]
  },
  {
   "cell_type": "code",
   "execution_count": 20,
   "metadata": {
    "ExecuteTime": {
     "end_time": "2022-06-02T17:56:07.548886Z",
     "start_time": "2022-06-02T17:56:07.541973Z"
    },
    "hidden": true
   },
   "outputs": [
    {
     "data": {
      "text/plain": [
       "(10, 1, 4)"
      ]
     },
     "execution_count": 20,
     "metadata": {},
     "output_type": "execute_result"
    }
   ],
   "source": [
    "large_cont_sum3(b)"
   ]
  },
  {
   "cell_type": "code",
   "execution_count": 21,
   "metadata": {
    "ExecuteTime": {
     "end_time": "2022-06-02T17:56:07.560362Z",
     "start_time": "2022-06-02T17:56:07.552726Z"
    },
    "hidden": true
   },
   "outputs": [
    {
     "data": {
      "text/plain": [
       "(9, 0, 4)"
      ]
     },
     "execution_count": 21,
     "metadata": {},
     "output_type": "execute_result"
    }
   ],
   "source": [
    "large_cont_sum3([1,2,-1,3,4,-1])"
   ]
  },
  {
   "cell_type": "markdown",
   "metadata": {
    "heading_collapsed": true
   },
   "source": [
    "### Sentence Reversal"
   ]
  },
  {
   "cell_type": "markdown",
   "metadata": {
    "hidden": true
   },
   "source": [
    "**Solution**"
   ]
  },
  {
   "cell_type": "code",
   "execution_count": 22,
   "metadata": {
    "ExecuteTime": {
     "end_time": "2022-06-02T17:56:07.571489Z",
     "start_time": "2022-06-02T17:56:07.564173Z"
    },
    "hidden": true
   },
   "outputs": [],
   "source": [
    "def rev_word(sent):\n",
    "    sent = sent.strip()\n",
    "    sent_arr = sent.split(\" \")\n",
    "    new_arr = []\n",
    "    for ele in sent_arr:\n",
    "        if ele.strip():\n",
    "            new_arr.append(ele)\n",
    "    new_arr.reverse()\n",
    "    sent = \" \".join(new_arr)\n",
    "    return sent"
   ]
  },
  {
   "cell_type": "markdown",
   "metadata": {
    "hidden": true
   },
   "source": [
    "**Tests**"
   ]
  },
  {
   "cell_type": "code",
   "execution_count": 23,
   "metadata": {
    "ExecuteTime": {
     "end_time": "2022-06-02T17:56:07.583831Z",
     "start_time": "2022-06-02T17:56:07.575971Z"
    },
    "hidden": true
   },
   "outputs": [
    {
     "name": "stdout",
     "output_type": "stream",
     "text": [
      "ALL TEST CASES PASSED\n"
     ]
    }
   ],
   "source": [
    "class ReversalTest(object):\n",
    "    \n",
    "    def test(self,sol):\n",
    "        assert_equal(sol('    space before'),'before space')\n",
    "        assert_equal(sol('space after     '),'after space')\n",
    "        assert_equal(sol('   Hello John    how are you   '),'you are how John Hello')\n",
    "        assert_equal(sol('1'),'1')\n",
    "        print(\"ALL TEST CASES PASSED\")\n",
    "        \n",
    "# Run and test\n",
    "t = ReversalTest()\n",
    "t.test(rev_word)"
   ]
  },
  {
   "cell_type": "markdown",
   "metadata": {
    "hidden": true
   },
   "source": [
    "*Preferred Solution*"
   ]
  },
  {
   "cell_type": "code",
   "execution_count": 24,
   "metadata": {
    "ExecuteTime": {
     "end_time": "2022-06-02T17:56:07.603379Z",
     "start_time": "2022-06-02T17:56:07.586083Z"
    },
    "hidden": true
   },
   "outputs": [],
   "source": [
    "def rev_word2(sent):\n",
    "    \n",
    "    words = []\n",
    "    length = len(sent)\n",
    "    space = [\" \"]\n",
    "    \n",
    "    i = 0\n",
    "    \n",
    "    while i < length:\n",
    "        \n",
    "        if sent[i] not in space:\n",
    "            \n",
    "            word_start = i\n",
    "            \n",
    "            while (i< length) and (sent[i] not in space):\n",
    "                \n",
    "                i += 1\n",
    "                \n",
    "            words.append(sent[word_start:i])\n",
    "            \n",
    "        i += 1\n",
    "        \n",
    "    return words\n",
    "\n",
    "def reverse_words(arr):\n",
    "    reve_arr = []\n",
    "    \n",
    "    for ele in arr:\n",
    "        reve_arr.insert(0, ele)\n",
    "        \n",
    "    return rev_arr\n",
    "\n",
    "def rev_word3(sent):\n",
    "    word = rev_word2(sent)\n",
    "    rev_word = reverse_words(word)\n",
    "    return \" \".join(rev_word)"
   ]
  },
  {
   "cell_type": "code",
   "execution_count": 25,
   "metadata": {
    "ExecuteTime": {
     "end_time": "2022-06-02T17:56:07.709546Z",
     "start_time": "2022-06-02T17:56:07.606170Z"
    },
    "hidden": true
   },
   "outputs": [
    {
     "ename": "NameError",
     "evalue": "name 'rev_arr' is not defined",
     "output_type": "error",
     "traceback": [
      "\u001b[0;31m---------------------------------------------------------------------------\u001b[0m",
      "\u001b[0;31mNameError\u001b[0m                                 Traceback (most recent call last)",
      "\u001b[0;32m/tmp/ipykernel_5243/1963611261.py\u001b[0m in \u001b[0;36m<module>\u001b[0;34m\u001b[0m\n\u001b[0;32m----> 1\u001b[0;31m \u001b[0mt\u001b[0m\u001b[0;34m.\u001b[0m\u001b[0mtest\u001b[0m\u001b[0;34m(\u001b[0m\u001b[0mrev_word3\u001b[0m\u001b[0;34m)\u001b[0m\u001b[0;34m\u001b[0m\u001b[0;34m\u001b[0m\u001b[0m\n\u001b[0m",
      "\u001b[0;32m/tmp/ipykernel_5243/1131600500.py\u001b[0m in \u001b[0;36mtest\u001b[0;34m(self, sol)\u001b[0m\n\u001b[1;32m      2\u001b[0m \u001b[0;34m\u001b[0m\u001b[0m\n\u001b[1;32m      3\u001b[0m     \u001b[0;32mdef\u001b[0m \u001b[0mtest\u001b[0m\u001b[0;34m(\u001b[0m\u001b[0mself\u001b[0m\u001b[0;34m,\u001b[0m\u001b[0msol\u001b[0m\u001b[0;34m)\u001b[0m\u001b[0;34m:\u001b[0m\u001b[0;34m\u001b[0m\u001b[0;34m\u001b[0m\u001b[0m\n\u001b[0;32m----> 4\u001b[0;31m         \u001b[0massert_equal\u001b[0m\u001b[0;34m(\u001b[0m\u001b[0msol\u001b[0m\u001b[0;34m(\u001b[0m\u001b[0;34m'    space before'\u001b[0m\u001b[0;34m)\u001b[0m\u001b[0;34m,\u001b[0m\u001b[0;34m'before space'\u001b[0m\u001b[0;34m)\u001b[0m\u001b[0;34m\u001b[0m\u001b[0;34m\u001b[0m\u001b[0m\n\u001b[0m\u001b[1;32m      5\u001b[0m         \u001b[0massert_equal\u001b[0m\u001b[0;34m(\u001b[0m\u001b[0msol\u001b[0m\u001b[0;34m(\u001b[0m\u001b[0;34m'space after     '\u001b[0m\u001b[0;34m)\u001b[0m\u001b[0;34m,\u001b[0m\u001b[0;34m'after space'\u001b[0m\u001b[0;34m)\u001b[0m\u001b[0;34m\u001b[0m\u001b[0;34m\u001b[0m\u001b[0m\n\u001b[1;32m      6\u001b[0m         \u001b[0massert_equal\u001b[0m\u001b[0;34m(\u001b[0m\u001b[0msol\u001b[0m\u001b[0;34m(\u001b[0m\u001b[0;34m'   Hello John    how are you   '\u001b[0m\u001b[0;34m)\u001b[0m\u001b[0;34m,\u001b[0m\u001b[0;34m'you are how John Hello'\u001b[0m\u001b[0;34m)\u001b[0m\u001b[0;34m\u001b[0m\u001b[0;34m\u001b[0m\u001b[0m\n",
      "\u001b[0;32m/tmp/ipykernel_5243/3186373213.py\u001b[0m in \u001b[0;36mrev_word3\u001b[0;34m(sent)\u001b[0m\n\u001b[1;32m     33\u001b[0m \u001b[0;32mdef\u001b[0m \u001b[0mrev_word3\u001b[0m\u001b[0;34m(\u001b[0m\u001b[0msent\u001b[0m\u001b[0;34m)\u001b[0m\u001b[0;34m:\u001b[0m\u001b[0;34m\u001b[0m\u001b[0;34m\u001b[0m\u001b[0m\n\u001b[1;32m     34\u001b[0m     \u001b[0mword\u001b[0m \u001b[0;34m=\u001b[0m \u001b[0mrev_word2\u001b[0m\u001b[0;34m(\u001b[0m\u001b[0msent\u001b[0m\u001b[0;34m)\u001b[0m\u001b[0;34m\u001b[0m\u001b[0;34m\u001b[0m\u001b[0m\n\u001b[0;32m---> 35\u001b[0;31m     \u001b[0mrev_word\u001b[0m \u001b[0;34m=\u001b[0m \u001b[0mreverse_words\u001b[0m\u001b[0;34m(\u001b[0m\u001b[0mword\u001b[0m\u001b[0;34m)\u001b[0m\u001b[0;34m\u001b[0m\u001b[0;34m\u001b[0m\u001b[0m\n\u001b[0m\u001b[1;32m     36\u001b[0m     \u001b[0;32mreturn\u001b[0m \u001b[0;34m\" \"\u001b[0m\u001b[0;34m.\u001b[0m\u001b[0mjoin\u001b[0m\u001b[0;34m(\u001b[0m\u001b[0mrev_word\u001b[0m\u001b[0;34m)\u001b[0m\u001b[0;34m\u001b[0m\u001b[0;34m\u001b[0m\u001b[0m\n",
      "\u001b[0;32m/tmp/ipykernel_5243/3186373213.py\u001b[0m in \u001b[0;36mreverse_words\u001b[0;34m(arr)\u001b[0m\n\u001b[1;32m     29\u001b[0m         \u001b[0mreve_arr\u001b[0m\u001b[0;34m.\u001b[0m\u001b[0minsert\u001b[0m\u001b[0;34m(\u001b[0m\u001b[0;36m0\u001b[0m\u001b[0;34m,\u001b[0m \u001b[0mele\u001b[0m\u001b[0;34m)\u001b[0m\u001b[0;34m\u001b[0m\u001b[0;34m\u001b[0m\u001b[0m\n\u001b[1;32m     30\u001b[0m \u001b[0;34m\u001b[0m\u001b[0m\n\u001b[0;32m---> 31\u001b[0;31m     \u001b[0;32mreturn\u001b[0m \u001b[0mrev_arr\u001b[0m\u001b[0;34m\u001b[0m\u001b[0;34m\u001b[0m\u001b[0m\n\u001b[0m\u001b[1;32m     32\u001b[0m \u001b[0;34m\u001b[0m\u001b[0m\n\u001b[1;32m     33\u001b[0m \u001b[0;32mdef\u001b[0m \u001b[0mrev_word3\u001b[0m\u001b[0;34m(\u001b[0m\u001b[0msent\u001b[0m\u001b[0;34m)\u001b[0m\u001b[0;34m:\u001b[0m\u001b[0;34m\u001b[0m\u001b[0;34m\u001b[0m\u001b[0m\n",
      "\u001b[0;31mNameError\u001b[0m: name 'rev_arr' is not defined"
     ]
    }
   ],
   "source": [
    "t.test(rev_word3)"
   ]
  },
  {
   "cell_type": "markdown",
   "metadata": {
    "hidden": true
   },
   "source": [
    "**Next Step**: Create own reversed function"
   ]
  },
  {
   "cell_type": "code",
   "execution_count": null,
   "metadata": {
    "ExecuteTime": {
     "end_time": "2022-06-02T17:56:07.712995Z",
     "start_time": "2022-06-02T17:56:07.712970Z"
    },
    "hidden": true
   },
   "outputs": [],
   "source": [
    "def reverse_words(arr):\n",
    "    reve_arr = []\n",
    "    \n",
    "    for ele in arr:\n",
    "        reve_arr.insert(0, ele)\n",
    "        \n",
    "    return rev_arr"
   ]
  },
  {
   "cell_type": "code",
   "execution_count": null,
   "metadata": {
    "ExecuteTime": {
     "end_time": "2022-06-02T17:56:07.715840Z",
     "start_time": "2022-06-02T17:56:07.715808Z"
    },
    "hidden": true
   },
   "outputs": [],
   "source": [
    "word = rev_word2('    space before')\n",
    "reve_word = reverse_words(word)\n",
    "print(reve_word)"
   ]
  },
  {
   "cell_type": "markdown",
   "metadata": {
    "heading_collapsed": true
   },
   "source": [
    "### String Compression"
   ]
  },
  {
   "cell_type": "markdown",
   "metadata": {
    "hidden": true
   },
   "source": [
    "**Solution**"
   ]
  },
  {
   "cell_type": "code",
   "execution_count": 26,
   "metadata": {
    "ExecuteTime": {
     "end_time": "2022-06-02T17:56:07.768148Z",
     "start_time": "2022-06-02T17:56:07.763130Z"
    },
    "hidden": true
   },
   "outputs": [],
   "source": [
    "def compress(sent):\n",
    "    \n",
    "    let_hash = collections.defaultdict(int)\n",
    "    \n",
    "    for letter in sent:\n",
    "        let_hash[letter] += 1\n",
    "    \n",
    "    response = []\n",
    "    for letter, freq in let_hash.items():\n",
    "        response.append(letter)\n",
    "        response.append(str(freq))\n",
    "    \n",
    "    return \"\".join(response)"
   ]
  },
  {
   "cell_type": "markdown",
   "metadata": {
    "hidden": true
   },
   "source": [
    "**Tests**"
   ]
  },
  {
   "cell_type": "code",
   "execution_count": 27,
   "metadata": {
    "ExecuteTime": {
     "end_time": "2022-06-02T17:56:07.842560Z",
     "start_time": "2022-06-02T17:56:07.836235Z"
    },
    "hidden": true
   },
   "outputs": [
    {
     "name": "stdout",
     "output_type": "stream",
     "text": [
      "ALL TEST CASES PASSED\n"
     ]
    }
   ],
   "source": [
    "class TestCompress(object):\n",
    "\n",
    "    def test(self, sol):\n",
    "        assert_equal(sol(''), '')\n",
    "        assert_equal(sol('AABBCC'), 'A2B2C2')\n",
    "        assert_equal(sol('AAABCCDDDDD'), 'A3B1C2D5')\n",
    "        print('ALL TEST CASES PASSED')\n",
    "\n",
    "# Run Tests\n",
    "t = TestCompress()\n",
    "t.test(compress)"
   ]
  },
  {
   "cell_type": "markdown",
   "metadata": {
    "hidden": true
   },
   "source": [
    "*Preferred Solution*"
   ]
  },
  {
   "cell_type": "code",
   "execution_count": 28,
   "metadata": {
    "ExecuteTime": {
     "end_time": "2022-06-02T17:56:07.929785Z",
     "start_time": "2022-06-02T17:56:07.920385Z"
    },
    "hidden": true
   },
   "outputs": [],
   "source": [
    "def compress2(sent):\n",
    "    \n",
    "    r = \"\"\n",
    "    l = len(sent)\n",
    "    \n",
    "    if l == 0:\n",
    "        return \"\"\n",
    "    \n",
    "    if l == 1:\n",
    "        return sent+\"1\"\n",
    "    \n",
    "    last = sent[0]\n",
    "    cnt = 1\n",
    "    i = 1\n",
    "    \n",
    "    while i < l:\n",
    "        \n",
    "        if sent[i] == sent[i-1]:\n",
    "            cnt += 1\n",
    "        else:\n",
    "            r = r + sent[i-1] + str(cnt)\n",
    "            cnt = 1\n",
    "            \n",
    "        i += 1\n",
    "    \n",
    "    r = r + sent[i-1] + str(cnt)\n",
    "    \n",
    "    return r"
   ]
  },
  {
   "cell_type": "code",
   "execution_count": 29,
   "metadata": {
    "ExecuteTime": {
     "end_time": "2022-06-02T17:56:07.950496Z",
     "start_time": "2022-06-02T17:56:07.934765Z"
    },
    "hidden": true
   },
   "outputs": [
    {
     "name": "stdout",
     "output_type": "stream",
     "text": [
      "ALL TEST CASES PASSED\n"
     ]
    }
   ],
   "source": [
    "t.test(compress2)"
   ]
  },
  {
   "cell_type": "markdown",
   "metadata": {
    "heading_collapsed": true
   },
   "source": [
    "### Unique characters in a string"
   ]
  },
  {
   "cell_type": "markdown",
   "metadata": {
    "hidden": true
   },
   "source": [
    "**Solution**"
   ]
  },
  {
   "cell_type": "code",
   "execution_count": 30,
   "metadata": {
    "ExecuteTime": {
     "end_time": "2022-06-02T17:56:08.098320Z",
     "start_time": "2022-06-02T17:56:08.093466Z"
    },
    "hidden": true
   },
   "outputs": [],
   "source": [
    "def uni_char(word):\n",
    "    word_arr = [x for x in word]\n",
    "    word_set = set(word_arr)\n",
    "    return len(word_arr) == len(word_set)\n",
    "\n",
    "def uni_char2(word):\n",
    "    \"\"\"Compressed version of 1\"\"\"\n",
    "    return len(set(word)) == len(word)"
   ]
  },
  {
   "cell_type": "markdown",
   "metadata": {
    "hidden": true
   },
   "source": [
    "**Tests**"
   ]
  },
  {
   "cell_type": "code",
   "execution_count": 31,
   "metadata": {
    "ExecuteTime": {
     "end_time": "2022-06-02T17:56:08.177772Z",
     "start_time": "2022-06-02T17:56:08.172816Z"
    },
    "hidden": true
   },
   "outputs": [
    {
     "name": "stdout",
     "output_type": "stream",
     "text": [
      "ALL TEST CASES PASSED\n"
     ]
    }
   ],
   "source": [
    "class TestUnique(object):\n",
    "\n",
    "    def test(self, sol):\n",
    "        assert_equal(sol(''), True)\n",
    "        assert_equal(sol('goo'), False)\n",
    "        assert_equal(sol('abcdefg'), True)\n",
    "        print('ALL TEST CASES PASSED')\n",
    "        \n",
    "# Run Tests\n",
    "t = TestUnique()\n",
    "t.test(uni_char2)"
   ]
  },
  {
   "cell_type": "markdown",
   "metadata": {
    "hidden": true
   },
   "source": [
    "*Preferred Solution*"
   ]
  },
  {
   "cell_type": "code",
   "execution_count": 32,
   "metadata": {
    "ExecuteTime": {
     "end_time": "2022-06-02T17:56:08.254527Z",
     "start_time": "2022-06-02T17:56:08.249918Z"
    },
    "hidden": true
   },
   "outputs": [],
   "source": [
    "def uni_char3(word):\n",
    "    \n",
    "    chars = set()\n",
    "    \n",
    "    for letter in word:\n",
    "        if letter in chars:\n",
    "            return False\n",
    "        else:\n",
    "            chars.add(letter)\n",
    "    return True"
   ]
  },
  {
   "cell_type": "code",
   "execution_count": 33,
   "metadata": {
    "ExecuteTime": {
     "end_time": "2022-06-02T17:56:08.264356Z",
     "start_time": "2022-06-02T17:56:08.258181Z"
    },
    "hidden": true
   },
   "outputs": [
    {
     "name": "stdout",
     "output_type": "stream",
     "text": [
      "ALL TEST CASES PASSED\n"
     ]
    }
   ],
   "source": [
    "t.test(uni_char3)"
   ]
  },
  {
   "cell_type": "markdown",
   "metadata": {},
   "source": [
    "## Stacks, Queues and Deques"
   ]
  },
  {
   "cell_type": "markdown",
   "metadata": {
    "heading_collapsed": true
   },
   "source": [
    "### Implement a Stack"
   ]
  },
  {
   "cell_type": "markdown",
   "metadata": {
    "hidden": true
   },
   "source": [
    "**Solution**"
   ]
  },
  {
   "cell_type": "code",
   "execution_count": 34,
   "metadata": {
    "ExecuteTime": {
     "end_time": "2022-06-02T17:56:08.499213Z",
     "start_time": "2022-06-02T17:56:08.492651Z"
    },
    "hidden": true
   },
   "outputs": [],
   "source": [
    "class Stack(object):\n",
    "    \n",
    "    def __init__(self):\n",
    "        self.items = []\n",
    "        \n",
    "    def isEmpty(self):\n",
    "        return self.items == []\n",
    "    \n",
    "    def push(self, item):\n",
    "        self.items.append(item)\n",
    "        \n",
    "    def remove(self):\n",
    "        return self.items.pop()\n",
    "    \n",
    "    def peek(self):\n",
    "        return self.items[-1]\n",
    "    \n",
    "    def size(self):\n",
    "        return len(self.items)"
   ]
  },
  {
   "cell_type": "code",
   "execution_count": 35,
   "metadata": {
    "ExecuteTime": {
     "end_time": "2022-06-02T17:56:08.515219Z",
     "start_time": "2022-06-02T17:56:08.503940Z"
    },
    "hidden": true
   },
   "outputs": [],
   "source": [
    "s = Stack()"
   ]
  },
  {
   "cell_type": "code",
   "execution_count": 36,
   "metadata": {
    "ExecuteTime": {
     "end_time": "2022-06-02T17:56:08.526679Z",
     "start_time": "2022-06-02T17:56:08.518082Z"
    },
    "hidden": true
   },
   "outputs": [],
   "source": [
    "s.push(1)"
   ]
  },
  {
   "cell_type": "code",
   "execution_count": 37,
   "metadata": {
    "ExecuteTime": {
     "end_time": "2022-06-02T17:56:08.536824Z",
     "start_time": "2022-06-02T17:56:08.532153Z"
    },
    "hidden": true
   },
   "outputs": [],
   "source": [
    "s.push(2)"
   ]
  },
  {
   "cell_type": "code",
   "execution_count": 38,
   "metadata": {
    "ExecuteTime": {
     "end_time": "2022-06-02T17:56:08.548209Z",
     "start_time": "2022-06-02T17:56:08.541016Z"
    },
    "hidden": true
   },
   "outputs": [
    {
     "data": {
      "text/plain": [
       "2"
      ]
     },
     "execution_count": 38,
     "metadata": {},
     "output_type": "execute_result"
    }
   ],
   "source": [
    "s.peek()"
   ]
  },
  {
   "cell_type": "code",
   "execution_count": 39,
   "metadata": {
    "ExecuteTime": {
     "end_time": "2022-06-02T17:56:08.558614Z",
     "start_time": "2022-06-02T17:56:08.552174Z"
    },
    "hidden": true
   },
   "outputs": [
    {
     "data": {
      "text/plain": [
       "False"
      ]
     },
     "execution_count": 39,
     "metadata": {},
     "output_type": "execute_result"
    }
   ],
   "source": [
    "s.isEmpty()"
   ]
  },
  {
   "cell_type": "code",
   "execution_count": 40,
   "metadata": {
    "ExecuteTime": {
     "end_time": "2022-06-02T17:56:08.568798Z",
     "start_time": "2022-06-02T17:56:08.562115Z"
    },
    "hidden": true
   },
   "outputs": [
    {
     "data": {
      "text/plain": [
       "2"
      ]
     },
     "execution_count": 40,
     "metadata": {},
     "output_type": "execute_result"
    }
   ],
   "source": [
    "s.remove()"
   ]
  },
  {
   "cell_type": "code",
   "execution_count": 41,
   "metadata": {
    "ExecuteTime": {
     "end_time": "2022-06-02T17:56:08.579331Z",
     "start_time": "2022-06-02T17:56:08.572889Z"
    },
    "hidden": true
   },
   "outputs": [
    {
     "data": {
      "text/plain": [
       "1"
      ]
     },
     "execution_count": 41,
     "metadata": {},
     "output_type": "execute_result"
    }
   ],
   "source": [
    "s.remove()"
   ]
  },
  {
   "cell_type": "code",
   "execution_count": 42,
   "metadata": {
    "ExecuteTime": {
     "end_time": "2022-06-02T17:56:08.592509Z",
     "start_time": "2022-06-02T17:56:08.583887Z"
    },
    "hidden": true
   },
   "outputs": [
    {
     "data": {
      "text/plain": [
       "True"
      ]
     },
     "execution_count": 42,
     "metadata": {},
     "output_type": "execute_result"
    }
   ],
   "source": [
    "s.isEmpty()"
   ]
  },
  {
   "cell_type": "markdown",
   "metadata": {
    "heading_collapsed": true
   },
   "source": [
    "### Implement a Queue"
   ]
  },
  {
   "cell_type": "markdown",
   "metadata": {
    "hidden": true
   },
   "source": [
    "**Solution**"
   ]
  },
  {
   "cell_type": "code",
   "execution_count": 43,
   "metadata": {
    "ExecuteTime": {
     "end_time": "2022-06-02T17:56:08.732121Z",
     "start_time": "2022-06-02T17:56:08.723262Z"
    },
    "hidden": true
   },
   "outputs": [],
   "source": [
    "class Queue(object):\n",
    "    \n",
    "    def __init__(self):\n",
    "        self.items = []\n",
    "        \n",
    "    def isEmpty(self):\n",
    "        return self.items == []\n",
    "    \n",
    "    def enqueue(self, item):\n",
    "        self.items.insert(0, item)\n",
    "        \n",
    "    def dequeue(self):\n",
    "        return self.items.pop()\n",
    "    \n",
    "    def size(self):\n",
    "        return len(self.items)"
   ]
  },
  {
   "cell_type": "code",
   "execution_count": 44,
   "metadata": {
    "ExecuteTime": {
     "end_time": "2022-06-02T17:56:08.746883Z",
     "start_time": "2022-06-02T17:56:08.736464Z"
    },
    "hidden": true
   },
   "outputs": [],
   "source": [
    "q = Queue()"
   ]
  },
  {
   "cell_type": "code",
   "execution_count": 45,
   "metadata": {
    "ExecuteTime": {
     "end_time": "2022-06-02T17:56:08.755807Z",
     "start_time": "2022-06-02T17:56:08.750828Z"
    },
    "hidden": true
   },
   "outputs": [],
   "source": [
    "q.enqueue(1)"
   ]
  },
  {
   "cell_type": "code",
   "execution_count": 46,
   "metadata": {
    "ExecuteTime": {
     "end_time": "2022-06-02T17:56:08.766335Z",
     "start_time": "2022-06-02T17:56:08.761096Z"
    },
    "hidden": true
   },
   "outputs": [],
   "source": [
    "q.enqueue(2)"
   ]
  },
  {
   "cell_type": "code",
   "execution_count": 47,
   "metadata": {
    "ExecuteTime": {
     "end_time": "2022-06-02T17:56:08.778296Z",
     "start_time": "2022-06-02T17:56:08.773628Z"
    },
    "hidden": true
   },
   "outputs": [],
   "source": [
    "q.enqueue(3)"
   ]
  },
  {
   "cell_type": "code",
   "execution_count": 48,
   "metadata": {
    "ExecuteTime": {
     "end_time": "2022-06-02T17:56:08.790820Z",
     "start_time": "2022-06-02T17:56:08.782259Z"
    },
    "hidden": true
   },
   "outputs": [
    {
     "data": {
      "text/plain": [
       "3"
      ]
     },
     "execution_count": 48,
     "metadata": {},
     "output_type": "execute_result"
    }
   ],
   "source": [
    "q.size()"
   ]
  },
  {
   "cell_type": "code",
   "execution_count": 49,
   "metadata": {
    "ExecuteTime": {
     "end_time": "2022-06-02T17:56:08.802659Z",
     "start_time": "2022-06-02T17:56:08.794806Z"
    },
    "hidden": true
   },
   "outputs": [
    {
     "data": {
      "text/plain": [
       "False"
      ]
     },
     "execution_count": 49,
     "metadata": {},
     "output_type": "execute_result"
    }
   ],
   "source": [
    "q.isEmpty()"
   ]
  },
  {
   "cell_type": "code",
   "execution_count": 50,
   "metadata": {
    "ExecuteTime": {
     "end_time": "2022-06-02T17:56:08.818638Z",
     "start_time": "2022-06-02T17:56:08.811780Z"
    },
    "hidden": true
   },
   "outputs": [
    {
     "data": {
      "text/plain": [
       "1"
      ]
     },
     "execution_count": 50,
     "metadata": {},
     "output_type": "execute_result"
    }
   ],
   "source": [
    "q.dequeue()"
   ]
  },
  {
   "cell_type": "code",
   "execution_count": 51,
   "metadata": {
    "ExecuteTime": {
     "end_time": "2022-06-02T17:56:08.828901Z",
     "start_time": "2022-06-02T17:56:08.822574Z"
    },
    "hidden": true
   },
   "outputs": [
    {
     "data": {
      "text/plain": [
       "2"
      ]
     },
     "execution_count": 51,
     "metadata": {},
     "output_type": "execute_result"
    }
   ],
   "source": [
    "q.dequeue()"
   ]
  },
  {
   "cell_type": "code",
   "execution_count": 52,
   "metadata": {
    "ExecuteTime": {
     "end_time": "2022-06-02T17:56:08.840834Z",
     "start_time": "2022-06-02T17:56:08.832097Z"
    },
    "hidden": true
   },
   "outputs": [
    {
     "data": {
      "text/plain": [
       "3"
      ]
     },
     "execution_count": 52,
     "metadata": {},
     "output_type": "execute_result"
    }
   ],
   "source": [
    "q.dequeue()"
   ]
  },
  {
   "cell_type": "code",
   "execution_count": 53,
   "metadata": {
    "ExecuteTime": {
     "end_time": "2022-06-02T17:56:08.850406Z",
     "start_time": "2022-06-02T17:56:08.843917Z"
    },
    "hidden": true
   },
   "outputs": [
    {
     "data": {
      "text/plain": [
       "0"
      ]
     },
     "execution_count": 53,
     "metadata": {},
     "output_type": "execute_result"
    }
   ],
   "source": [
    "q.size()"
   ]
  },
  {
   "cell_type": "code",
   "execution_count": 54,
   "metadata": {
    "ExecuteTime": {
     "end_time": "2022-06-02T17:56:08.863641Z",
     "start_time": "2022-06-02T17:56:08.854214Z"
    },
    "hidden": true
   },
   "outputs": [
    {
     "data": {
      "text/plain": [
       "True"
      ]
     },
     "execution_count": 54,
     "metadata": {},
     "output_type": "execute_result"
    }
   ],
   "source": [
    "q.isEmpty()"
   ]
  },
  {
   "cell_type": "markdown",
   "metadata": {
    "heading_collapsed": true
   },
   "source": [
    "### Implement a Deque"
   ]
  },
  {
   "cell_type": "code",
   "execution_count": 55,
   "metadata": {
    "ExecuteTime": {
     "end_time": "2022-06-02T17:56:08.941093Z",
     "start_time": "2022-06-02T17:56:08.932641Z"
    },
    "hidden": true
   },
   "outputs": [],
   "source": [
    "class Deque(object):\n",
    "    \n",
    "    def __init__(self):\n",
    "        self.items = []\n",
    "        \n",
    "    def isEmpty(self):\n",
    "        return self.items == []\n",
    "        \n",
    "    def addFront(self, item):\n",
    "        self.items.append(item)\n",
    "\n",
    "    def addRear(self, item):\n",
    "        self.items.insert(0, item)\n",
    "        \n",
    "    def removeFront(self):\n",
    "        return self.items.pop()\n",
    "    \n",
    "    def removeRear(self):\n",
    "        return self.items.pop(0)\n",
    "    \n",
    "    def size(self):\n",
    "        return len(self.items)"
   ]
  },
  {
   "cell_type": "code",
   "execution_count": 56,
   "metadata": {
    "ExecuteTime": {
     "end_time": "2022-06-02T17:56:08.974508Z",
     "start_time": "2022-06-02T17:56:08.944042Z"
    },
    "hidden": true
   },
   "outputs": [],
   "source": [
    "d = Deque()"
   ]
  },
  {
   "cell_type": "code",
   "execution_count": 57,
   "metadata": {
    "ExecuteTime": {
     "end_time": "2022-06-02T17:56:08.990199Z",
     "start_time": "2022-06-02T17:56:08.977864Z"
    },
    "hidden": true
   },
   "outputs": [
    {
     "data": {
      "text/plain": [
       "True"
      ]
     },
     "execution_count": 57,
     "metadata": {},
     "output_type": "execute_result"
    }
   ],
   "source": [
    "d.isEmpty()"
   ]
  },
  {
   "cell_type": "code",
   "execution_count": 58,
   "metadata": {
    "ExecuteTime": {
     "end_time": "2022-06-02T17:56:08.999771Z",
     "start_time": "2022-06-02T17:56:08.994286Z"
    },
    "hidden": true
   },
   "outputs": [],
   "source": [
    "d.addRear(1)"
   ]
  },
  {
   "cell_type": "code",
   "execution_count": 59,
   "metadata": {
    "ExecuteTime": {
     "end_time": "2022-06-02T17:56:09.014963Z",
     "start_time": "2022-06-02T17:56:09.008252Z"
    },
    "hidden": true
   },
   "outputs": [],
   "source": [
    "d.addFront(2)"
   ]
  },
  {
   "cell_type": "code",
   "execution_count": 60,
   "metadata": {
    "ExecuteTime": {
     "end_time": "2022-06-02T17:56:09.029076Z",
     "start_time": "2022-06-02T17:56:09.018160Z"
    },
    "hidden": true
   },
   "outputs": [],
   "source": [
    "d.addFront(3)"
   ]
  },
  {
   "cell_type": "code",
   "execution_count": 61,
   "metadata": {
    "ExecuteTime": {
     "end_time": "2022-06-02T17:56:09.046371Z",
     "start_time": "2022-06-02T17:56:09.031613Z"
    },
    "hidden": true
   },
   "outputs": [
    {
     "data": {
      "text/plain": [
       "False"
      ]
     },
     "execution_count": 61,
     "metadata": {},
     "output_type": "execute_result"
    }
   ],
   "source": [
    "d.isEmpty()"
   ]
  },
  {
   "cell_type": "code",
   "execution_count": 62,
   "metadata": {
    "ExecuteTime": {
     "end_time": "2022-06-02T17:56:09.063338Z",
     "start_time": "2022-06-02T17:56:09.049298Z"
    },
    "hidden": true
   },
   "outputs": [
    {
     "data": {
      "text/plain": [
       "3"
      ]
     },
     "execution_count": 62,
     "metadata": {},
     "output_type": "execute_result"
    }
   ],
   "source": [
    "d.size()"
   ]
  },
  {
   "cell_type": "code",
   "execution_count": 63,
   "metadata": {
    "ExecuteTime": {
     "end_time": "2022-06-02T17:56:09.075723Z",
     "start_time": "2022-06-02T17:56:09.066462Z"
    },
    "hidden": true
   },
   "outputs": [
    {
     "data": {
      "text/plain": [
       "1"
      ]
     },
     "execution_count": 63,
     "metadata": {},
     "output_type": "execute_result"
    }
   ],
   "source": [
    "d.removeRear()"
   ]
  },
  {
   "cell_type": "code",
   "execution_count": 64,
   "metadata": {
    "ExecuteTime": {
     "end_time": "2022-06-02T17:56:09.087550Z",
     "start_time": "2022-06-02T17:56:09.078200Z"
    },
    "hidden": true
   },
   "outputs": [
    {
     "data": {
      "text/plain": [
       "3"
      ]
     },
     "execution_count": 64,
     "metadata": {},
     "output_type": "execute_result"
    }
   ],
   "source": [
    "d.removeFront()"
   ]
  },
  {
   "cell_type": "code",
   "execution_count": 65,
   "metadata": {
    "ExecuteTime": {
     "end_time": "2022-06-02T17:56:09.099821Z",
     "start_time": "2022-06-02T17:56:09.090797Z"
    },
    "hidden": true
   },
   "outputs": [
    {
     "data": {
      "text/plain": [
       "2"
      ]
     },
     "execution_count": 65,
     "metadata": {},
     "output_type": "execute_result"
    }
   ],
   "source": [
    "d.removeFront()"
   ]
  },
  {
   "cell_type": "code",
   "execution_count": 66,
   "metadata": {
    "ExecuteTime": {
     "end_time": "2022-06-02T17:56:09.110379Z",
     "start_time": "2022-06-02T17:56:09.102648Z"
    },
    "hidden": true
   },
   "outputs": [
    {
     "data": {
      "text/plain": [
       "0"
      ]
     },
     "execution_count": 66,
     "metadata": {},
     "output_type": "execute_result"
    }
   ],
   "source": [
    "d.size()"
   ]
  },
  {
   "cell_type": "code",
   "execution_count": 67,
   "metadata": {
    "ExecuteTime": {
     "end_time": "2022-06-02T17:56:09.120397Z",
     "start_time": "2022-06-02T17:56:09.112941Z"
    },
    "hidden": true
   },
   "outputs": [
    {
     "data": {
      "text/plain": [
       "True"
      ]
     },
     "execution_count": 67,
     "metadata": {},
     "output_type": "execute_result"
    }
   ],
   "source": [
    "d.isEmpty()"
   ]
  },
  {
   "cell_type": "markdown",
   "metadata": {
    "heading_collapsed": true
   },
   "source": [
    "### Balanced Parenthesis Check"
   ]
  },
  {
   "cell_type": "markdown",
   "metadata": {
    "hidden": true
   },
   "source": [
    "**Solution**"
   ]
  },
  {
   "cell_type": "code",
   "execution_count": 68,
   "metadata": {
    "ExecuteTime": {
     "end_time": "2022-06-02T17:56:09.260002Z",
     "start_time": "2022-06-02T17:56:09.254200Z"
    },
    "hidden": true
   },
   "outputs": [],
   "source": [
    "def balance_check(sent):\n",
    "    count = 0\n",
    "    for item in sent:\n",
    "        if item == (\"[\"):\n",
    "            count += 1\n",
    "        elif item == (\"{\"):\n",
    "            count += 1\n",
    "        elif item == (\"(\"):\n",
    "            count += 1\n",
    "    \n",
    "    for item in sent:        \n",
    "        if item == (\"]\"):\n",
    "            count -= 1\n",
    "        elif item == (\"}\"):\n",
    "            count -= 1\n",
    "        elif item == (\")\"):\n",
    "            count -= 1\n",
    "            \n",
    "    if count == 0:\n",
    "        return True\n",
    "    else:\n",
    "        return False"
   ]
  },
  {
   "cell_type": "markdown",
   "metadata": {
    "hidden": true
   },
   "source": [
    "**Tests**"
   ]
  },
  {
   "cell_type": "code",
   "execution_count": 69,
   "metadata": {
    "ExecuteTime": {
     "end_time": "2022-06-02T17:56:09.378322Z",
     "start_time": "2022-06-02T17:56:09.372630Z"
    },
    "hidden": true
   },
   "outputs": [
    {
     "name": "stdout",
     "output_type": "stream",
     "text": [
      "ALL TEST CASES PASSED\n"
     ]
    }
   ],
   "source": [
    "class TestBalanceCheck(object):\n",
    "    \n",
    "    def test(self,sol):\n",
    "        assert_equal(sol('[](){([[[]]])}('),False)\n",
    "        assert_equal(sol('[{{{(())}}}]((()))'),True)\n",
    "        assert_equal(sol('[[[]])]'),False)\n",
    "        print('ALL TEST CASES PASSED')\n",
    "        \n",
    "# Run Tests\n",
    "\n",
    "t = TestBalanceCheck()\n",
    "t.test(balance_check)"
   ]
  },
  {
   "cell_type": "markdown",
   "metadata": {
    "hidden": true
   },
   "source": [
    "*Preferred Solution*"
   ]
  },
  {
   "cell_type": "code",
   "execution_count": 97,
   "metadata": {
    "ExecuteTime": {
     "end_time": "2022-06-02T18:43:04.972100Z",
     "start_time": "2022-06-02T18:43:04.960119Z"
    },
    "hidden": true
   },
   "outputs": [],
   "source": [
    "def balance_check2(s):\n",
    "    \n",
    "    if len(s) % 2 != 0:\n",
    "        return False\n",
    "    \n",
    "    opening = set(\"([{\")\n",
    "    \n",
    "    matches = set([(\"(\", \")\"), (\"[\", \"]\"), (\"{\", \"}\")])\n",
    "    \n",
    "    stack = Stack()\n",
    "    \n",
    "    for paren in s:\n",
    "        \n",
    "        if paren in opening:\n",
    "            stack.push(paren)\n",
    "            \n",
    "        else:\n",
    "            \n",
    "            if stack.size() == 0:\n",
    "                return False\n",
    "            \n",
    "            last_open = stack.remove()\n",
    "            \n",
    "            if (last_open, paren) not in matches:\n",
    "                return False\n",
    "            \n",
    "    return stack.size() == 0"
   ]
  },
  {
   "cell_type": "code",
   "execution_count": 98,
   "metadata": {
    "ExecuteTime": {
     "end_time": "2022-06-02T18:43:07.492562Z",
     "start_time": "2022-06-02T18:43:07.486676Z"
    },
    "hidden": true
   },
   "outputs": [
    {
     "name": "stdout",
     "output_type": "stream",
     "text": [
      "ALL TEST CASES PASSED\n"
     ]
    }
   ],
   "source": [
    "t.test(balance_check2)"
   ]
  },
  {
   "cell_type": "markdown",
   "metadata": {
    "ExecuteTime": {
     "end_time": "2022-06-02T16:47:24.513558Z",
     "start_time": "2022-06-02T16:47:24.502669Z"
    }
   },
   "source": [
    "### Implement a Queue using 2 Stacks"
   ]
  },
  {
   "cell_type": "markdown",
   "metadata": {},
   "source": [
    "**Solution**"
   ]
  },
  {
   "cell_type": "code",
   "execution_count": 99,
   "metadata": {
    "ExecuteTime": {
     "end_time": "2022-06-02T18:47:03.814200Z",
     "start_time": "2022-06-02T18:47:03.808607Z"
    }
   },
   "outputs": [],
   "source": [
    "\"\"\"Not a working solution, had to look solution to\n",
    "solve it. Mostly, lacks a way to check whether the\n",
    "outstack is empty and loop over the instack to fill\n",
    "the outstack.\"\"\"\n",
    "class Queue2Stacks(object):\n",
    "    \n",
    "    def __init__(self):\n",
    "        self.stack1 = []\n",
    "        self.stack2 = []\n",
    "        \n",
    "    def enqueue(self, item):\n",
    "        self.stack1.append(item)\n",
    "        #pop_item = self.stack1.pop()\n",
    "        #self.stack2.append(pop_item)\n",
    "        \n",
    "    def dequeue(self):\n",
    "        pop_item = self.stack1.pop()\n",
    "        self.stack2.append(pop_item)\n",
    "        return self.stack2.pop()"
   ]
  },
  {
   "cell_type": "markdown",
   "metadata": {},
   "source": [
    "**Tests**"
   ]
  },
  {
   "cell_type": "code",
   "execution_count": 100,
   "metadata": {
    "ExecuteTime": {
     "end_time": "2022-06-02T18:47:05.998365Z",
     "start_time": "2022-06-02T18:47:05.989640Z"
    }
   },
   "outputs": [
    {
     "name": "stdout",
     "output_type": "stream",
     "text": [
      "4\n",
      "3\n",
      "2\n",
      "1\n",
      "0\n"
     ]
    }
   ],
   "source": [
    "q = Queue2Stacks()\n",
    "\n",
    "for i in range(5):\n",
    "    q.enqueue(i)\n",
    "    \n",
    "for i in range(5):\n",
    "    print(q.dequeue())"
   ]
  },
  {
   "cell_type": "markdown",
   "metadata": {},
   "source": [
    "*Preferred Solution*"
   ]
  },
  {
   "cell_type": "code",
   "execution_count": null,
   "metadata": {},
   "outputs": [],
   "source": [
    "class Queue2Stacks2(object):\n",
    "    \n",
    "    def __init__(self):\n",
    "        self.stack1 = []\n",
    "        self.stack2 = []\n",
    "        \n",
    "    def enqueue(self, item):\n",
    "        self.stack1.append(item)\n",
    "        \n",
    "    def dequeue(self):\n",
    "        if not self.stack2:\n",
    "            while s\n",
    "        self.stack2.append(self.stack1.pop())\n",
    "        return self.stack2.pop()"
   ]
  },
  {
   "cell_type": "code",
   "execution_count": null,
   "metadata": {},
   "outputs": [],
   "source": []
  }
 ],
 "metadata": {
  "kernelspec": {
   "display_name": "Python 3 (ipykernel)",
   "language": "python",
   "name": "python3"
  },
  "language_info": {
   "codemirror_mode": {
    "name": "ipython",
    "version": 3
   },
   "file_extension": ".py",
   "mimetype": "text/x-python",
   "name": "python",
   "nbconvert_exporter": "python",
   "pygments_lexer": "ipython3",
   "version": "3.7.12"
  },
  "toc": {
   "base_numbering": 1,
   "nav_menu": {},
   "number_sections": true,
   "sideBar": true,
   "skip_h1_title": false,
   "title_cell": "Table of Contents",
   "title_sidebar": "Contents",
   "toc_cell": false,
   "toc_position": {},
   "toc_section_display": true,
   "toc_window_display": false
  },
  "varInspector": {
   "cols": {
    "lenName": 16,
    "lenType": 16,
    "lenVar": 40
   },
   "kernels_config": {
    "python": {
     "delete_cmd_postfix": "",
     "delete_cmd_prefix": "del ",
     "library": "var_list.py",
     "varRefreshCmd": "print(var_dic_list())"
    },
    "r": {
     "delete_cmd_postfix": ") ",
     "delete_cmd_prefix": "rm(",
     "library": "var_list.r",
     "varRefreshCmd": "cat(var_dic_list()) "
    }
   },
   "types_to_exclude": [
    "module",
    "function",
    "builtin_function_or_method",
    "instance",
    "_Feature"
   ],
   "window_display": false
  }
 },
 "nbformat": 4,
 "nbformat_minor": 2
}
